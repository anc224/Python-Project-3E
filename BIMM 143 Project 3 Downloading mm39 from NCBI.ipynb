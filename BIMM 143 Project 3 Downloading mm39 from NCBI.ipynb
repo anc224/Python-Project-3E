{
 "cells": [
  {
   "cell_type": "code",
   "execution_count": 96,
   "metadata": {},
   "outputs": [],
   "source": [
    "import os\n",
    "import numpy as np\n",
    "import pandas as pd\n",
    "from Bio import SeqIO\n",
    "from Bio.Seq import Seq\n",
    "from Bio import motifs\n",
    "from Bio.SeqUtils import GC\n",
    "import matplotlib.pyplot as plt\n",
    "from Bio import Entrez"
   ]
  },
  {
   "cell_type": "code",
   "execution_count": 82,
   "metadata": {},
   "outputs": [
    {
     "data": {
      "text/plain": [
       "{'Count': '244', 'RetMax': '40', 'RetStart': '0', 'IdList': ['1877089968', '1877089967', '1877089966', '1877089965', '1877089964', '1877089963', '1877089962', '1877089961', '1877089960', '1877089959', '1877089958', '1877089957', '1877089956', '1877089955', '1877089954', '1877089953', '1877089952', '1877089951', '1877089950', '1877089949', '1877089948', '1877089905', '1877089904', '1877089903', '1877089902', '1877089901', '1877089900', '1877089899', '1877089898', '1877089897', '1877089896', '1877089895', '1877089894', '1877089893', '1877089892', '1877089891', '1877089885', '1877089884', '1877089883', '1877089882'], 'TranslationSet': [], 'TranslationStack': [{'Term': 'GRCm39[All Fields]', 'Field': 'All Fields', 'Count': '244', 'Explode': 'N'}, 'GROUP'], 'QueryTranslation': 'GRCm39[All Fields]'}"
      ]
     },
     "execution_count": 82,
     "metadata": {},
     "output_type": "execute_result"
    }
   ],
   "source": [
    "Entrez.email = \"anc224@ucsd.edu\"\n",
    "handle = Entrez.esearch(db=\"nucleotide\", term=\"GRCm39\", RetMax = '40' )\n",
    "searchrecord = Entrez.read(handle)\n",
    "searchrecord"
   ]
  },
  {
   "cell_type": "code",
   "execution_count": 81,
   "metadata": {},
   "outputs": [
    {
     "name": "stdout",
     "output_type": "stream",
     "text": [
      "Mus musculus strain C57BL/6J chromosome 2, GRCm39\n",
      "D:\\Winter 2021\\BIMM 143\\mm10_2.txt\n",
      "Saved\n",
      "Mus musculus strain C57BL/6J chromosome 3, GRCm39\n",
      "D:\\Winter 2021\\BIMM 143\\mm10_3.txt\n",
      "Saved\n",
      "Mus musculus strain C57BL/6J chromosome 4, GRCm39\n",
      "D:\\Winter 2021\\BIMM 143\\mm10_4.txt\n",
      "Saved\n",
      "Mus musculus strain C57BL/6J chromosome 5, GRCm39\n",
      "D:\\Winter 2021\\BIMM 143\\mm10_5.txt\n",
      "Saved\n",
      "Mus musculus strain C57BL/6J chromosome 6, GRCm39\n",
      "D:\\Winter 2021\\BIMM 143\\mm10_6.txt\n",
      "Saved\n",
      "Mus musculus strain C57BL/6J chromosome 7, GRCm39\n",
      "D:\\Winter 2021\\BIMM 143\\mm10_7.txt\n",
      "Saved\n",
      "Mus musculus strain C57BL/6J chromosome 8, GRCm39\n",
      "D:\\Winter 2021\\BIMM 143\\mm10_8.txt\n",
      "Saved\n",
      "Mus musculus strain C57BL/6J chromosome 9, GRCm39\n",
      "D:\\Winter 2021\\BIMM 143\\mm10_9.txt\n",
      "Saved\n",
      "Mus musculus strain C57BL/6J chromosome 10, GRCm39\n",
      "D:\\Winter 2021\\BIMM 143\\mm10_10.txt\n",
      "Saved\n",
      "Mus musculus strain C57BL/6J chromosome 11, GRCm39\n",
      "D:\\Winter 2021\\BIMM 143\\mm10_11.txt\n",
      "Saved\n",
      "Mus musculus strain C57BL/6J chromosome 12, GRCm39\n",
      "D:\\Winter 2021\\BIMM 143\\mm10_12.txt\n",
      "Saved\n",
      "Mus musculus strain C57BL/6J chromosome 13, GRCm39\n",
      "D:\\Winter 2021\\BIMM 143\\mm10_13.txt\n",
      "Saved\n",
      "Mus musculus strain C57BL/6J chromosome 14, GRCm39\n",
      "D:\\Winter 2021\\BIMM 143\\mm10_14.txt\n",
      "Saved\n",
      "Mus musculus strain C57BL/6J chromosome 15, GRCm39\n",
      "D:\\Winter 2021\\BIMM 143\\mm10_15.txt\n",
      "Saved\n",
      "Mus musculus strain C57BL/6J chromosome 16, GRCm39\n",
      "D:\\Winter 2021\\BIMM 143\\mm10_16.txt\n",
      "Saved\n",
      "Mus musculus strain C57BL/6J chromosome 17, GRCm39\n",
      "D:\\Winter 2021\\BIMM 143\\mm10_17.txt\n",
      "Saved\n",
      "Mus musculus strain C57BL/6J chromosome 18, GRCm39\n",
      "D:\\Winter 2021\\BIMM 143\\mm10_18.txt\n",
      "Saved\n",
      "Mus musculus strain C57BL/6J chromosome 19, GRCm39\n",
      "D:\\Winter 2021\\BIMM 143\\mm10_19.txt\n",
      "Saved\n",
      "Mus musculus strain C57BL/6J chromosome X, GRCm39\n",
      "D:\\Winter 2021\\BIMM 143\\mm10_20.txt\n",
      "Saved\n",
      "Mus musculus strain C57BL/6J chromosome Y, GRCm39\n",
      "D:\\Winter 2021\\BIMM 143\\mm10_21.txt\n",
      "Saved\n"
     ]
    }
   ],
   "source": [
    "muslist = searchrecord['IdList'][1:21]\n",
    "for i in range(len(muslist)):\n",
    "    handle = Entrez.esummary(db=\"nucleotide\", id=muslist[i])\n",
    "    record = Entrez.read(handle)\n",
    "    print(record[0]['Title'])\n",
    "    handle.close()\n",
    "    \n",
    "    filename = ''.join([\"D:\\Winter 2021\\BIMM 143\\mm10_\", str(i+2), \".txt\"])\n",
    "    print(filename)\n",
    "    \n",
    "    if not os.path.isfile(filename):\n",
    "        net_handle = Entrez.efetch(db=\"nucleotide\", id=muslist[i], rettype=\"fasta\", retmode=\"text\")\n",
    "        out_handle = open(filename, \"w\")\n",
    "        out_handle.write(net_handle.read())\n",
    "        out_handle.close()\n",
    "        net_handle.close()\n",
    "        print(\"Saved\")"
   ]
  }
 ],
 "metadata": {
  "kernelspec": {
   "display_name": "Python 3",
   "language": "python",
   "name": "python3"
  },
  "language_info": {
   "codemirror_mode": {
    "name": "ipython",
    "version": 3
   },
   "file_extension": ".py",
   "mimetype": "text/x-python",
   "name": "python",
   "nbconvert_exporter": "python",
   "pygments_lexer": "ipython3",
   "version": "3.7.3"
  }
 },
 "nbformat": 4,
 "nbformat_minor": 2
}
